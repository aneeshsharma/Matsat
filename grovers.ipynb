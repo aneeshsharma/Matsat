{
 "cells": [
  {
   "cell_type": "code",
   "execution_count": 179,
   "metadata": {},
   "outputs": [],
   "source": [
    "#initialization\n",
    "import matplotlib.pyplot as plt\n",
    "import numpy as np\n",
    "\n",
    "# importing Qiskit\n",
    "from qiskit import IBMQ, Aer, execute\n",
    "from qiskit import QuantumCircuit, ClassicalRegister, QuantumRegister\n",
    "from qiskit.providers.ibmq import least_busy\n",
    "\n",
    "# import basic plot tools\n",
    "from qiskit.visualization import plot_histogram"
   ]
  },
  {
   "cell_type": "code",
   "execution_count": 180,
   "metadata": {},
   "outputs": [],
   "source": [
    "n = 4\n",
    "\n",
    "circuit = QuantumCircuit(n)"
   ]
  },
  {
   "cell_type": "code",
   "execution_count": 181,
   "metadata": {},
   "outputs": [],
   "source": [
    "def initalize_s(qc, qubits):\n",
    "    for q in qubits:\n",
    "        circuit.h(q)"
   ]
  },
  {
   "cell_type": "code",
   "execution_count": 182,
   "metadata": {},
   "outputs": [],
   "source": [
    "qubits = list(range(n))\n",
    "initalize_s(circuit, qubits)"
   ]
  },
  {
   "cell_type": "code",
   "execution_count": 183,
   "metadata": {},
   "outputs": [
    {
     "data": {
      "text/html": [
       "<pre style=\"word-wrap: normal;white-space: pre;background: #fff0;line-height: 1.1;font-family: &quot;Courier New&quot;,Courier,monospace\">     ┌───┐\n",
       "q_0: ┤ H ├\n",
       "     ├───┤\n",
       "q_1: ┤ H ├\n",
       "     ├───┤\n",
       "q_2: ┤ H ├\n",
       "     ├───┤\n",
       "q_3: ┤ H ├\n",
       "     └───┘</pre>"
      ],
      "text/plain": [
       "     ┌───┐\n",
       "q_0: ┤ H ├\n",
       "     ├───┤\n",
       "q_1: ┤ H ├\n",
       "     ├───┤\n",
       "q_2: ┤ H ├\n",
       "     ├───┤\n",
       "q_3: ┤ H ├\n",
       "     └───┘"
      ]
     },
     "execution_count": 183,
     "metadata": {},
     "output_type": "execute_result"
    }
   ],
   "source": [
    "circuit.draw()"
   ]
  },
  {
   "cell_type": "code",
   "execution_count": 184,
   "metadata": {},
   "outputs": [],
   "source": [
    "def oracle(n):\n",
    "    qc = QuantumCircuit(n)\n",
    "    for i in range(n - 1):\n",
    "        qc.cz(i, n-1)\n",
    "    \n",
    "    ora = qc.to_gate()\n",
    "    ora.name = \"Oracle\"\n",
    "    \n",
    "    return ora, qc\n",
    "\n",
    "def multicontrolled_z(n):\n",
    "    qc = QuantumCircuit(n)\n",
    "        \n",
    "    qc.h(n-1)\n",
    "    qc.mct(list(range(n-1)), n-1)\n",
    "    qc.h(n-1)\n",
    "\n",
    "    mz = qc.to_gate()\n",
    "    mz.name = \"MZ\"\n",
    "\n",
    "    return mz\n",
    "\n",
    "def diffuser(n):\n",
    "    qc = QuantumCircuit(n)\n",
    "    for qubit in range(n):\n",
    "        qc.h(qubit)\n",
    "        qc.x(qubit)\n",
    "\n",
    "    qc.append(multicontrolled_z(n), list(range(n)))\n",
    "\n",
    "    for qubit in range(n):\n",
    "        qc.x(qubit)\n",
    "        qc.h(qubit)\n",
    "\n",
    "    U_s = qc.to_gate()\n",
    "    U_s.name = \"U$_s$\"\n",
    "\n",
    "    qc.draw(output='mpl')\n",
    "\n",
    "    return U_s, qc"
   ]
  },
  {
   "cell_type": "code",
   "execution_count": 185,
   "metadata": {},
   "outputs": [
    {
     "data": {
      "image/png": "[encoded data removed]",
      "text/plain": [
       "<Figure size 387.597x264.88 with 1 Axes>"
      ]
     },
     "execution_count": 185,
     "metadata": {},
     "output_type": "execute_result"
    }
   ],
   "source": [
    "circuit = QuantumCircuit(n)\n",
    "\n",
    "initalize_s(circuit, qubits)\n",
    "ora, qc_o = oracle(n)\n",
    "U_s, qc_u = diffuser(n)\n",
    "circuit.append(ora, qubits)\n",
    "circuit.append(U_s, qubits)\n",
    "circuit.measure_all()\n",
    "\n",
    "qc_u.draw(output='mpl')"
   ]
  },
  {
   "cell_type": "code",
   "execution_count": 186,
   "metadata": {},
   "outputs": [
    {
     "data": {
      "image/png": "[encoded data removed]",
      "text/plain": [
       "<Figure size 504x360 with 1 Axes>"
      ]
     },
     "execution_count": 186,
     "metadata": {},
     "output_type": "execute_result"
    }
   ],
   "source": [
    "simulator = Aer.get_backend('aer_simulator')\n",
    "results = execute(circuit, backend=simulator).result()\n",
    "counts = results.get_counts()\n",
    "plot_histogram(counts)"
   ]
  },
  {
   "cell_type": "code",
   "execution_count": null,
   "metadata": {},
   "outputs": [],
   "source": []
  }
 ],
 "metadata": {
  "interpreter": {
   "hash": "e7370f93d1d0cde622a1f8e1c04877d8463912d04d973331ad4851f04de6915a"
  },
  "kernelspec": {
   "display_name": "Python 3.9.7 64-bit",
   "language": "python",
   "name": "python3"
  },
  "language_info": {
   "codemirror_mode": {
    "name": "ipython",
    "version": 3
   },
   "file_extension": ".py",
   "mimetype": "text/x-python",
   "name": "python",
   "nbconvert_exporter": "python",
   "pygments_lexer": "ipython3",
   "version": "3.9.7"
  },
  "orig_nbformat": 4
 },
 "nbformat": 4,
 "nbformat_minor": 2
}
